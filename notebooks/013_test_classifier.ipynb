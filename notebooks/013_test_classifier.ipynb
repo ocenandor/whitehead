{
 "cells": [
  {
   "cell_type": "code",
   "execution_count": 33,
   "metadata": {},
   "outputs": [],
   "source": [
    "import pytorch_lightning as pl\n",
    "import torch\n",
    "from configs.classifier_single_run import config as cfg\n",
    "from tokenizer import build_tokenizer\n",
    "from train_magnus_classifier import build_model_confg, to_str\n",
    "from transformers import AutoModelForSequenceClassification, BertConfig"
   ]
  },
  {
   "cell_type": "code",
   "execution_count": 36,
   "metadata": {},
   "outputs": [],
   "source": [
    "def create_classification_prompt(rel, word):\n",
    "    return f\"{to_str(rel)}:{to_str(word)}\""
   ]
  },
  {
   "cell_type": "code",
   "execution_count": 7,
   "metadata": {},
   "outputs": [],
   "source": [
    "tokenizer = build_tokenizer('word-level', fdim=3, add_commutator_tokens=True,\n",
    "                            add_prompt_tokens=True, add_post_processor=True)"
   ]
  },
  {
   "cell_type": "code",
   "execution_count": 65,
   "metadata": {},
   "outputs": [],
   "source": [
    "class LitModel(pl.LightningModule):\n",
    "    def __init__(self, config: dict, tokenizer, num_step_per_epoch=None):\n",
    "        super(LitModel, self).__init__()\n",
    "        bert_config = build_model_confg(config, tokenizer)\n",
    "        self.model = AutoModelForSequenceClassification.from_config(\n",
    "            bert_config)\n",
    "    \n",
    "    def predict(self, relation, word):\n",
    "        prompt = create_classification_prompt(relation, word)\n",
    "        tokenized = tokenizer(prompt, return_tensors='pt', return_token_type_ids=False)\n",
    "        return self.model(**tokenized).logits"
   ]
  },
  {
   "cell_type": "code",
   "execution_count": 66,
   "metadata": {},
   "outputs": [],
   "source": [
    "model = LitModel(cfg, tokenizer)"
   ]
  },
  {
   "cell_type": "code",
   "execution_count": 52,
   "metadata": {},
   "outputs": [],
   "source": [
    "checkpoint = torch.load('/main/whitehead/pavel-tikhomirov-runs/wandb/latest-run/checkpoints/epoch=1-step=49767-best_test_accuracy.ckpt',\n",
    "                        map_location='cpu',\n",
    "                        weights_only=False)"
   ]
  },
  {
   "cell_type": "code",
   "execution_count": 67,
   "metadata": {},
   "outputs": [],
   "source": [
    "model.load_state_dict(checkpoint['state_dict'])\n",
    "model.eval()\n",
    "None"
   ]
  },
  {
   "cell_type": "code",
   "execution_count": 31,
   "metadata": {},
   "outputs": [],
   "source": [
    "RELATIONS_LIST = [(-2, 3),\n",
    " (3, -1),\n",
    " (1, -2),\n",
    " (-1, -2, -2),\n",
    " (1, -2, -1),\n",
    " (3, -1, -3),\n",
    " (2, -1, 3, 3),\n",
    " (-1, 2, 1, 1),\n",
    " (3, 1, 3, 3),\n",
    " (-3, -2, -2, -2, 1),\n",
    " (2, 2, -3, -1, -2),\n",
    " (-3, 1, 2, -3, -1),\n",
    " (-2, 3, 2, 2, -3, -1),\n",
    " (-3, 2, -1, 3, 3, -2),\n",
    " (-1, -1, -2, -2, -2, -3),\n",
    " (-2, -2, 1, 3, -2, 3, 1),\n",
    " (-3, -1, -3, 2, 2, 1, 1),\n",
    " (3, 2, 3, -2, -1, 2, 1),\n",
    " (-3, 2, 3, 1, 1, 3, -1, 2),\n",
    " (2, 3, -1, -3, -2, -1, -3, 2),\n",
    " (-3, 1, 3, -2, 3, 2, -3, 1),\n",
    " (2, 1, 1, -2, -3, 2, -1, -3, -3),\n",
    " (-3, -3, -3, 2, 3, 1, -3, -3, 2),\n",
    " (-2, -2, -2, -3, 2, 2, 3, 3, -1),\n",
    " (1, 3, -2, -1, -2, -3, -2, -1, 2, -1),\n",
    " (1, 3, 1, -2, -2, 1, -2, 3, -1, 3),\n",
    " (3, -1, -2, 1, -3, -1, -1, 3, -1, 3),\n",
    " (-1, -2, -1, -2, -2, -3, 2, -3, -3, -2, -3),\n",
    " (-1, -2, 3, -2, 3, 3, -2, -3, 2, 1, -3),\n",
    " (-1, 3, -1, -1, -3, -1, -1, 3, 2, -3, -3),\n",
    " (2, 1, -2, -1, 3, -1, -2, -2, -1, -3, -1, 3),\n",
    " (-2, -3, 1, 3, -1, 3, -2, -3, 1, 2, -3, -1),\n",
    " (3, 2, -1, -3, 2, -1, -1, 3, 1, 1, -3, -1),\n",
    " (-3, 1, 1, -2, 1, -2, -2, 3, 3, 2, 3, 1, 3),\n",
    " (-1, 2, 1, 1, -3, -3, -2, 3, 2, 1, 1, -2, 1),\n",
    " (-2, -2, -2, 3, -2, -1, 3, 3, -1, -2, 3, -1, 2),\n",
    " (-3, 2, -1, -2, 3, -1, 2, 1, 1, 3, -2, 1, -3, 2),\n",
    " (-1, 2, -1, -3, 1, 2, -3, 2, 3, 2, -1, 2, 2, 2),\n",
    " (1, 1, -3, -2, 1, 1, 2, 1, 3, 1, 2, -3, -2, -3)]"
   ]
  }
 ],
 "metadata": {
  "kernelspec": {
   "display_name": "Python 3 (ipykernel)",
   "language": "python",
   "name": "python3"
  },
  "language_info": {
   "codemirror_mode": {
    "name": "ipython",
    "version": 3
   },
   "file_extension": ".py",
   "mimetype": "text/x-python",
   "name": "python",
   "nbconvert_exporter": "python",
   "pygments_lexer": "ipython3",
   "version": "3.10.14"
  }
 },
 "nbformat": 4,
 "nbformat_minor": 2
}
