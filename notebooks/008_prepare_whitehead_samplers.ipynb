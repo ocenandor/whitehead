{
 "cells": [
  {
   "cell_type": "code",
   "execution_count": 1,
   "metadata": {},
   "outputs": [],
   "source": [
    "import sys\n",
    "\n",
    "sys.path.append('..')\n",
    "\n",
    "import os\n",
    "import pickle\n",
    "import random\n",
    "from copy import deepcopy\n",
    "from datetime import datetime\n",
    "from functools import partial\n",
    "from itertools import islice\n",
    "from os import environ\n",
    "from pickle import dump\n",
    "\n",
    "import matplotlib.pyplot as plt\n",
    "import numpy as np\n",
    "import wandb\n",
    "from iteration_utilities import repeatfunc, unique_everseen\n",
    "from sklearn.model_selection import train_test_split\n",
    "from tokenizer import build_tokenizer\n",
    "from torch.utils.data import DataLoader\n",
    "from tqdm.auto import tqdm\n",
    "from utils import train_collate_fn\n",
    "\n",
    "from freegroup.sampling import CFGNormalClosureSampler, freegroup\n",
    "from freegroup.sampling.helper import get_rng\n",
    "from freegroup.tools import Comm, flatten, normalize, to_string\n",
    "\n",
    "os.environ[\"TOKENIZERS_PARALLELISM\"] = \"false\""
   ]
  },
  {
   "cell_type": "markdown",
   "metadata": {},
   "source": [
    "### Generate relations"
   ]
  },
  {
   "cell_type": "code",
   "execution_count": 2,
   "metadata": {},
   "outputs": [],
   "source": [
    "seed = 0\n",
    "rng = get_rng(seed)\n",
    "fdim = 3"
   ]
  },
  {
   "cell_type": "code",
   "execution_count": 3,
   "metadata": {},
   "outputs": [],
   "source": [
    "n_relations_per_length = 4"
   ]
  },
  {
   "cell_type": "code",
   "execution_count": 4,
   "metadata": {},
   "outputs": [],
   "source": [
    "def sample_freegroup(fdim=2, n_samples=int(1e3), rng=rng, length=5, tqdm_on=False):\n",
    "    if length <= 1:\n",
    "        return [() for _ in range(n_samples)]\n",
    "    def fn():\n",
    "        return tuple(freegroup(fdim, length, rng=rng))\n",
    "    iterator = repeatfunc(fn)\n",
    "    iterator = unique_everseen(iterator)\n",
    "    iterator = islice(iterator, n_samples)\n",
    "    result = set(list(tqdm(iterator, total=int(n_samples), disable=not tqdm_on)))\n",
    "    # if len(result) < n_samples:\n",
    "    #     print(f'Warning, there are lack of samples for length={length}')\n",
    "    return result"
   ]
  },
  {
   "cell_type": "code",
   "execution_count": 5,
   "metadata": {},
   "outputs": [
    {
     "data": {
      "application/vnd.jupyter.widget-view+json": {
       "model_id": "a8a30a15077c4443975c510ac84bdb1f",
       "version_major": 2,
       "version_minor": 0
      },
      "text/plain": [
       "  0%|          | 0/31 [00:00<?, ?it/s]"
      ]
     },
     "metadata": {},
     "output_type": "display_data"
    }
   ],
   "source": [
    "relations_all = [(sample_freegroup(fdim, n_relations_per_length, length=length, tqdm_on=False)) for length in tqdm(range(31))]"
   ]
  },
  {
   "cell_type": "code",
   "execution_count": 6,
   "metadata": {},
   "outputs": [],
   "source": [
    "relations = {\n",
    "    # 'extra_tiny': {length: relations_all[length][:2] for length in range(4, len(relations_all), 5)},\n",
    "    # 'tiny': {length: relations_all[length][:3] for length in range(4, len(relations_all), 5)},\n",
    "    'small': {length: relations_all[length] for length in range(4, len(relations_all), 5)},\n",
    "    'medium': {length: relations_all[length] for length in range(4, len(relations_all), 3)},\n",
    "    'big': {length: relations_all[length] for length in range(4, len(relations_all))},   \n",
    "    }"
   ]
  },
  {
   "cell_type": "code",
   "execution_count": 7,
   "metadata": {},
   "outputs": [
    {
     "name": "stdout",
     "output_type": "stream",
     "text": [
      "small 24\n",
      "medium 36\n",
      "big 108\n"
     ]
    }
   ],
   "source": [
    "for key, val in relations.items():\n",
    "    print(key, len(val) * len(list(val.values())[0]))"
   ]
  },
  {
   "cell_type": "markdown",
   "metadata": {},
   "source": [
    "### Generate data"
   ]
  },
  {
   "cell_type": "code",
   "execution_count": 8,
   "metadata": {},
   "outputs": [],
   "source": [
    "L = 500"
   ]
  },
  {
   "cell_type": "code",
   "execution_count": 9,
   "metadata": {},
   "outputs": [],
   "source": [
    "flat_relations_all = [relation for relation_set in relations_all for relation in relation_set]\n"
   ]
  },
  {
   "cell_type": "code",
   "execution_count": null,
   "metadata": {},
   "outputs": [
    {
     "data": {
      "application/vnd.jupyter.widget-view+json": {
       "model_id": "60ae255ba4364790811c36bd0e5794e5",
       "version_major": 2,
       "version_minor": 0
      },
      "text/plain": [
       "  0%|          | 0/124 [00:00<?, ?it/s]"
      ]
     },
     "metadata": {},
     "output_type": "display_data"
    }
   ],
   "source": [
    "total_relations = len(flat_relations_all)\n",
    "with tqdm(total=total_relations) as pbar: \n",
    "    for i, relation in enumerate(flat_relations_all):\n",
    "        if not relation:\n",
    "            continue\n",
    "        pbar.set_description(f\"Processing relation: {relation} ({len(relation)})\")\n",
    "        sampler = CFGNormalClosureSampler.build(closure=list(relation), fdim=fdim, max_length=L)\n",
    "        sampler_path = f'/main/whitehead/data/CFG_samplers/meta_model_samplers_L_{L}/sampler_{i:03d}_{\",\".join(map(str, relation))}_L={L}.pkl'\n",
    "        with open(sampler_path, 'wb') as f:\n",
    "            pickle.dump(sampler, f)\n",
    "        pbar.update(1)\n",
    "        with open('log_generate_samples.log', 'a') as f:\n",
    "            print(f'{i:03d} / {len(flat_relations_all)} {datetime.now} {relation} ready! Path={sampler_path}', file=f)"
   ]
  }
 ],
 "metadata": {
  "kernelspec": {
   "display_name": "Python 3 (ipykernel)",
   "language": "python",
   "name": "python3"
  },
  "language_info": {
   "codemirror_mode": {
    "name": "ipython",
    "version": 3
   },
   "file_extension": ".py",
   "mimetype": "text/x-python",
   "name": "python",
   "nbconvert_exporter": "python",
   "pygments_lexer": "ipython3",
   "version": "3.10.14"
  }
 },
 "nbformat": 4,
 "nbformat_minor": 2
}
