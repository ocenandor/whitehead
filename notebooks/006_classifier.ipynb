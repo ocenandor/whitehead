{
 "cells": [
  {
   "cell_type": "code",
   "execution_count": 1,
   "metadata": {},
   "outputs": [],
   "source": [
    "# сэмплим слова из комутатора, и из групп\n",
    "# протсо обучаем классификатор, лежит в этом комутаторе или не лежит\n",
    "# тест другой длины"
   ]
  },
  {
   "cell_type": "code",
   "execution_count": 2,
   "metadata": {},
   "outputs": [],
   "source": [
    "import sys\n",
    "\n",
    "sys.path.append('..')\n",
    "import pickle\n",
    "from os import environ\n",
    "from pathlib import Path\n",
    "\n",
    "import pandas as pd\n",
    "import torch\n",
    "import wandb\n",
    "from lming.utils import download_artifact\n",
    "from sklearn.model_selection import train_test_split\n",
    "from tokenizer import build_tokenizer\n",
    "from torch.utils.data import DataLoader, Dataset\n",
    "from tqdm import tqdm\n",
    "from transformers import (AutoModelForSequenceClassification, BertConfig,\n",
    "                          Trainer, TrainingArguments)\n",
    "import matplotlib.pyplot as plt\n",
    "import seaborn as sns"
   ]
  },
  {
   "cell_type": "code",
   "execution_count": 3,
   "metadata": {},
   "outputs": [],
   "source": [
    "environ['WANDB_USERNAME']='pavel-tikhomirov'\n",
    "environ['WANDB_DIR']=f'/main/whitehead/{environ[\"WANDB_USERNAME\"]}-runs/'\n",
    "environ['TOKENIZERS_PARALLELISM']='false'"
   ]
  },
  {
   "cell_type": "markdown",
   "metadata": {},
   "source": [
    "### PREPARE MODEL"
   ]
  },
  {
   "cell_type": "code",
   "execution_count": 4,
   "metadata": {},
   "outputs": [
    {
     "name": "stderr",
     "output_type": "stream",
     "text": [
      "/usr/local/lib/python3.10/site-packages/transformers/tokenization_utils_base.py:1617: FutureWarning: `clean_up_tokenization_spaces` was not set. It will be set to `True` by default. This behavior will be deprecated in transformers v4.45, and will be then set to `False` by default. For more details check this issue: https://github.com/huggingface/transformers/issues/31884\n",
      "  warnings.warn(\n"
     ]
    }
   ],
   "source": [
    "tokenizer = build_tokenizer('word-level', fdim=3, add_commutator_tokens=True,\n",
    "                            add_prompt_tokens=True, add_post_processor=True)"
   ]
  },
  {
   "cell_type": "code",
   "execution_count": 5,
   "metadata": {},
   "outputs": [],
   "source": [
    "config = BertConfig(\n",
    "    vocab_size = len(tokenizer.get_vocab()),\n",
    "    hidden_size = 768,\n",
    "    num_hidden_layers = 8,\n",
    "    num_attention_heads = 6,\n",
    "    intermediate_size = 512,\n",
    "    num_labels=2,\n",
    "    bos_token_id = tokenizer.bos_token_id,\n",
    "    eos_token_id = tokenizer.eos_token_id,\n",
    "    pad_token_id = tokenizer.pad_token_id,\n",
    ")"
   ]
  },
  {
   "cell_type": "markdown",
   "metadata": {},
   "source": [
    "### PREPARE DATA"
   ]
  },
  {
   "cell_type": "code",
   "execution_count": 6,
   "metadata": {},
   "outputs": [
    {
     "name": "stderr",
     "output_type": "stream",
     "text": [
      "\u001b[34m\u001b[1mwandb\u001b[0m: Using wandb-core as the SDK backend. Please refer to https://wandb.me/wandb-core for more information.\n",
      "\u001b[34m\u001b[1mwandb\u001b[0m: Currently logged in as: \u001b[33mpavel-tikhomirov\u001b[0m (\u001b[33mml-in-algebraic-topology\u001b[0m). Use \u001b[1m`wandb login --relogin`\u001b[0m to force relogin\n"
     ]
    },
    {
     "data": {
      "text/html": [
       "Tracking run with wandb version 0.18.2"
      ],
      "text/plain": [
       "<IPython.core.display.HTML object>"
      ]
     },
     "metadata": {},
     "output_type": "display_data"
    },
    {
     "data": {
      "text/html": [
       "Run data is saved locally in <code>/main/whitehead/pavel-tikhomirov-runs/wandb/run-20241201_125736-xd3qcqi0</code>"
      ],
      "text/plain": [
       "<IPython.core.display.HTML object>"
      ]
     },
     "metadata": {},
     "output_type": "display_data"
    },
    {
     "data": {
      "text/html": [
       "Syncing run <strong><a href='https://wandb.ai/ml-in-algebraic-topology/whitehead/runs/xd3qcqi0' target=\"_blank\">bumbling-mountain-256</a></strong> to <a href='https://wandb.ai/ml-in-algebraic-topology/whitehead' target=\"_blank\">Weights & Biases</a> (<a href='https://wandb.me/run' target=\"_blank\">docs</a>)<br/>"
      ],
      "text/plain": [
       "<IPython.core.display.HTML object>"
      ]
     },
     "metadata": {},
     "output_type": "display_data"
    },
    {
     "data": {
      "text/html": [
       " View project at <a href='https://wandb.ai/ml-in-algebraic-topology/whitehead' target=\"_blank\">https://wandb.ai/ml-in-algebraic-topology/whitehead</a>"
      ],
      "text/plain": [
       "<IPython.core.display.HTML object>"
      ]
     },
     "metadata": {},
     "output_type": "display_data"
    },
    {
     "data": {
      "text/html": [
       " View run at <a href='https://wandb.ai/ml-in-algebraic-topology/whitehead/runs/xd3qcqi0' target=\"_blank\">https://wandb.ai/ml-in-algebraic-topology/whitehead/runs/xd3qcqi0</a>"
      ],
      "text/plain": [
       "<IPython.core.display.HTML object>"
      ]
     },
     "metadata": {},
     "output_type": "display_data"
    },
    {
     "name": "stderr",
     "output_type": "stream",
     "text": [
      "\u001b[34m\u001b[1mwandb\u001b[0m: Downloading large artifact fdim-3-whitehead:v4, 167.68MB. 3 files... \n",
      "\u001b[34m\u001b[1mwandb\u001b[0m:   3 of 3 files downloaded.  \n",
      "Done. 0:0:0.5\n"
     ]
    }
   ],
   "source": [
    "run = wandb.init(entity='ml-in-algebraic-topology', project='whitehead')\n",
    "artifact_dir = download_artifact('fdim-3-whitehead:v4')"
   ]
  },
  {
   "cell_type": "code",
   "execution_count": 7,
   "metadata": {},
   "outputs": [
    {
     "data": {
      "application/vnd.jupyter.widget-view+json": {
       "model_id": "98010bb07e16461883134348ccf2ef7d",
       "version_major": 2,
       "version_minor": 0
      },
      "text/plain": [
       "VBox(children=(Label(value='0.005 MB of 0.005 MB uploaded\\r'), FloatProgress(value=1.0, max=1.0)))"
      ]
     },
     "metadata": {},
     "output_type": "display_data"
    },
    {
     "data": {
      "text/html": [
       " View run <strong style=\"color:#cdcd00\">bumbling-mountain-256</strong> at: <a href='https://wandb.ai/ml-in-algebraic-topology/whitehead/runs/xd3qcqi0' target=\"_blank\">https://wandb.ai/ml-in-algebraic-topology/whitehead/runs/xd3qcqi0</a><br/> View project at: <a href='https://wandb.ai/ml-in-algebraic-topology/whitehead' target=\"_blank\">https://wandb.ai/ml-in-algebraic-topology/whitehead</a><br/>Synced 5 W&B file(s), 0 media file(s), 0 artifact file(s) and 0 other file(s)"
      ],
      "text/plain": [
       "<IPython.core.display.HTML object>"
      ]
     },
     "metadata": {},
     "output_type": "display_data"
    },
    {
     "data": {
      "text/html": [
       "Find logs at: <code>./pavel-tikhomirov-runs/wandb/run-20241201_125736-xd3qcqi0/logs</code>"
      ],
      "text/plain": [
       "<IPython.core.display.HTML object>"
      ]
     },
     "metadata": {},
     "output_type": "display_data"
    }
   ],
   "source": [
    "wandb.finish()"
   ]
  },
  {
   "cell_type": "code",
   "execution_count": 8,
   "metadata": {},
   "outputs": [],
   "source": [
    "with open(Path(artifact_dir) / \"train.pkl\", 'rb') as f:\n",
    "    train_data = pickle.load(f)"
   ]
  },
  {
   "cell_type": "code",
   "execution_count": 9,
   "metadata": {},
   "outputs": [],
   "source": [
    "with open(Path(artifact_dir) / \"val.pkl\", 'rb') as f:\n",
    "    val_data = pickle.load(f)"
   ]
  },
  {
   "cell_type": "code",
   "execution_count": 10,
   "metadata": {},
   "outputs": [],
   "source": [
    "data = train_data + val_data"
   ]
  },
  {
   "cell_type": "code",
   "execution_count": 11,
   "metadata": {},
   "outputs": [],
   "source": [
    "def process_word(word):\n",
    "    return {\n",
    "        'word_str': word['word_str'].split(':')[1],\n",
    "        'label': int(word['label'] == 'c'),\n",
    "        'len': len(word['word_str'].split(':')[1].split())\n",
    "        }"
   ]
  },
  {
   "cell_type": "code",
   "execution_count": 12,
   "metadata": {},
   "outputs": [
    {
     "name": "stderr",
     "output_type": "stream",
     "text": [
      "  0%|                                                                                                          | 0/800000 [00:00<?, ?it/s]"
     ]
    },
    {
     "name": "stderr",
     "output_type": "stream",
     "text": [
      "100%|█████████████████████████████████████████████████████████████████████████████████████████| 800000/800000 [00:03<00:00, 253700.16it/s]\n"
     ]
    }
   ],
   "source": [
    "data_processed = list(map(process_word, tqdm(data)))"
   ]
  },
  {
   "cell_type": "code",
   "execution_count": 13,
   "metadata": {},
   "outputs": [
    {
     "name": "stderr",
     "output_type": "stream",
     "text": [
      "  0%|                                                                                                          | 0/199156 [00:00<?, ?it/s]"
     ]
    },
    {
     "name": "stderr",
     "output_type": "stream",
     "text": [
      "100%|█████████████████████████████████████████████████████████████████████████████████████████| 199156/199156 [00:00<00:00, 201837.25it/s]\n",
      "100%|█████████████████████████████████████████████████████████████████████████████████████████| 600844/600844 [00:02<00:00, 267666.22it/s]\n"
     ]
    }
   ],
   "source": [
    "train_data_processed = list(map(process_word, tqdm(train_data)))\n",
    "val_data_processed = list(map(process_word, tqdm(val_data)))"
   ]
  },
  {
   "cell_type": "code",
   "execution_count": 14,
   "metadata": {},
   "outputs": [],
   "source": [
    "def collate_classification_train(batch):\n",
    "    collated_batch = tokenizer([el['word_str'] for el in batch],\n",
    "                      padding=True, return_tensors='pt',\n",
    "                      return_token_type_ids=False)\n",
    "    collated_batch['labels'] = torch.tensor([el['label'] for el in batch])\n",
    "    return collated_batch"
   ]
  },
  {
   "cell_type": "code",
   "execution_count": 15,
   "metadata": {},
   "outputs": [],
   "source": [
    "df = pd.DataFrame(data_processed)\n",
    "df_train = pd.DataFrame(train_data_processed)\n",
    "df_val = pd.DataFrame(val_data_processed)"
   ]
  },
  {
   "cell_type": "code",
   "execution_count": 16,
   "metadata": {},
   "outputs": [],
   "source": [
    "min_com_length = df[['label', 'len']].groupby('label').min().loc[1].item()"
   ]
  },
  {
   "cell_type": "code",
   "execution_count": 17,
   "metadata": {},
   "outputs": [],
   "source": [
    "max_common_length = df[['label', 'len']].groupby('label').max().min().item()"
   ]
  },
  {
   "cell_type": "code",
   "execution_count": 18,
   "metadata": {},
   "outputs": [],
   "source": [
    "MAX_LEN_THRESHOLD = 90\n",
    "test_no_com_small_length = df[df.len < min_com_length]\n",
    "df_main = df_train[df_train.len <= MAX_LEN_THRESHOLD]\n",
    "test_big_length = df_train[df_train.len > MAX_LEN_THRESHOLD]\n",
    "test_only_com = df_val[df_val.len > max_common_length]"
   ]
  },
  {
   "cell_type": "code",
   "execution_count": 37,
   "metadata": {},
   "outputs": [
    {
     "data": {
      "text/plain": [
       "label\n",
       "0    31383\n",
       "1    10461\n",
       "Name: count, dtype: int64"
      ]
     },
     "execution_count": 37,
     "metadata": {},
     "output_type": "execute_result"
    }
   ],
   "source": [
    "test_big_length.label.value_counts()"
   ]
  },
  {
   "cell_type": "code",
   "execution_count": 19,
   "metadata": {},
   "outputs": [],
   "source": [
    "train, val = train_test_split(df_main, stratify=df_main.label, test_size=0.1)"
   ]
  },
  {
   "cell_type": "code",
   "execution_count": 20,
   "metadata": {},
   "outputs": [
    {
     "data": {
      "text/plain": [
       "<Axes: xlabel='len', ylabel='Count'>"
      ]
     },
     "execution_count": 20,
     "metadata": {},
     "output_type": "execute_result"
    },
    {
     "data": {
      "image/png": "[encoded data removed]",
      "text/plain": [
       "<Figure size 640x480 with 1 Axes>"
      ]
     },
     "metadata": {},
     "output_type": "display_data"
    }
   ],
   "source": [
    "sns.histplot(train[train.label==0].len, color='red')\n",
    "sns.histplot(train[train.label==1].len, color='blue')"
   ]
  },
  {
   "cell_type": "code",
   "execution_count": 21,
   "metadata": {},
   "outputs": [
    {
     "data": {
      "text/plain": [
       "<Axes: xlabel='len', ylabel='Count'>"
      ]
     },
     "execution_count": 21,
     "metadata": {},
     "output_type": "execute_result"
    },
    {
     "data": {
      "image/png": "[encoded data removed]",
      "text/plain": [
       "<Figure size 640x480 with 1 Axes>"
      ]
     },
     "metadata": {},
     "output_type": "display_data"
    }
   ],
   "source": [
    "sns.histplot(test_big_length[test_big_length.label==0].len, color='red')\n",
    "sns.histplot(test_big_length[test_big_length.label==1].len, color='blue')"
   ]
  },
  {
   "cell_type": "code",
   "execution_count": 22,
   "metadata": {},
   "outputs": [],
   "source": [
    "class CustomDataset(Dataset):\n",
    "    def __init__(self, df) -> None:\n",
    "        super().__init__()\n",
    "        self.df = df\n",
    "    \n",
    "    def __getitem__(self, index):\n",
    "        return self.df.iloc[index].to_dict()\n",
    "    \n",
    "    def __len__(self):\n",
    "        return len(self.df)"
   ]
  },
  {
   "cell_type": "code",
   "execution_count": 23,
   "metadata": {},
   "outputs": [],
   "source": [
    "train_dataset = CustomDataset(train)\n",
    "val_dataset = CustomDataset(val)\n",
    "test_no_com_small_length_dataset = CustomDataset(test_no_com_small_length)\n",
    "test_big_length_dataset = CustomDataset(test_big_length)\n",
    "test_only_com_dataset = CustomDataset(test_only_com)"
   ]
  },
  {
   "cell_type": "code",
   "execution_count": 24,
   "metadata": {},
   "outputs": [],
   "source": [
    "train_dataloader = DataLoader(train_dataset, batch_size=256, collate_fn=collate_classification_train, shuffle=True)\n",
    "val_dataloader = DataLoader(val_dataset, batch_size=256, collate_fn=collate_classification_train, shuffle=False)\n",
    "\n",
    "test_no_com_small_length_dataloader = DataLoader(test_no_com_small_length_dataset, batch_size=256, collate_fn=collate_classification_train, shuffle=False)\n",
    "test_big_length_dataloader = DataLoader(test_big_length_dataset, batch_size=256, collate_fn=collate_classification_train, shuffle=False)\n",
    "test_only_com_dataloader = DataLoader(test_only_com_dataset, batch_size=256, collate_fn=collate_classification_train, shuffle=False)"
   ]
  },
  {
   "cell_type": "code",
   "execution_count": 25,
   "metadata": {},
   "outputs": [],
   "source": [
    "test_dataloaders = dict(\n",
    "    val=val_dataloader,\n",
    "    test_no_com_small_length=test_no_com_small_length_dataloader,\n",
    "    test_big_length=test_big_length_dataloader,\n",
    "    test_only_com=test_only_com_dataloader\n",
    ")"
   ]
  },
  {
   "cell_type": "code",
   "execution_count": 26,
   "metadata": {},
   "outputs": [],
   "source": [
    "import numpy as np\n",
    "from sklearn.metrics import accuracy_score\n",
    "\n",
    "# def compute_metrics(eval_pred):\n",
    "#     logits, labels = eval_pred\n",
    "#     predictions = np.argmax(logits, axis=-1)\n",
    "#     return accuracy_score(labels, predictions)"
   ]
  },
  {
   "cell_type": "code",
   "execution_count": 27,
   "metadata": {},
   "outputs": [],
   "source": [
    "import torch\n",
    "from torch.utils.tensorboard import SummaryWriter\n",
    "from transformers import get_linear_schedule_with_warmup\n",
    "from sklearn.metrics import accuracy_score, precision_score, recall_score, f1_score\n",
    "import wandb\n",
    "from torch.optim import AdamW\n"
   ]
  },
  {
   "cell_type": "code",
   "execution_count": 28,
   "metadata": {},
   "outputs": [
    {
     "data": {
      "text/plain": [
       "'cuda'"
      ]
     },
     "execution_count": 28,
     "metadata": {},
     "output_type": "execute_result"
    }
   ],
   "source": [
    "device = 'cuda' if torch.cuda.is_available() else 'cpu'\n",
    "device"
   ]
  },
  {
   "cell_type": "code",
   "execution_count": null,
   "metadata": {},
   "outputs": [],
   "source": [
    "def train_one_epoch(model, loader, loader_name, optimizer,criterion, epoch,\n",
    "                    scheduler=None, train=True, writer=None, return_res=False):\n",
    "    total_loss = 0\n",
    "    num_samples = 0\n",
    "    predictions = []\n",
    "    labels = []\n",
    "    if train:\n",
    "        model.train()\n",
    "    else:\n",
    "        model.eval()\n",
    "    \n",
    "    for batch in loader:\n",
    "        batch = batch.to(device)\n",
    "        if train:\n",
    "            optimizer.zero_grad()\n",
    "            outputs = model(**batch)\n",
    "            outputs = model(input_ids=batch['input_ids'],\n",
    "                        attention_mask=batch['attention_mask'])\n",
    "            logits = outputs.logits\n",
    "            loss = criterion(logits, batch['labels'])\n",
    "\n",
    "            loss.backward()\n",
    "            optimizer.step()\n",
    "            if scheduler:\n",
    "                scheduler.step()\n",
    "        else:\n",
    "            with torch.no_grad():\n",
    "                outputs = model(**batch)\n",
    "                outputs = model(input_ids=batch['input_ids'],\n",
    "                            attention_mask=batch['attention_mask'])\n",
    "                logits = outputs.logits\n",
    "                loss = criterion(logits, batch['labels'])\n",
    "\n",
    "        _, predicted = torch.max(logits, 1)\n",
    "        predictions.extend(predicted.cpu().numpy())\n",
    "        labels.extend(batch['labels'].cpu().numpy())\n",
    "        num_samples += batch['labels'].size(0)\n",
    "\n",
    "    total_loss /= num_samples\n",
    "    accuracy = accuracy_score(labels, predictions)\n",
    "    precision = precision_score(labels, predictions)\n",
    "    recall = recall_score(labels, predictions)\n",
    "    total_loss += loss.item()\n",
    "\n",
    "    if writer:\n",
    "        writer.add_scalar(f'Loss/{loader_name}', total_loss, epoch)\n",
    "        writer.add_scalar(f'Accuracy/{loader_name}', accuracy, epoch)\n",
    "        writer.add_scalar(f'Precision/{loader_name}', precision, epoch)\n",
    "        writer.add_scalar(f'Recall/{loader_name}', recall, epoch)\n",
    "    \n",
    "    if return_res:\n",
    "        return labels, predictions"
   ]
  },
  {
   "cell_type": "code",
   "execution_count": null,
   "metadata": {},
   "outputs": [
    {
     "name": "stderr",
     "output_type": "stream",
     "text": [
      "  0%|                                                    | 0/30 [00:00<?, ?it/s]"
     ]
    }
   ],
   "source": [
    "writer = SummaryWriter(filename_suffix='01-12-2024_balanced')\n",
    "model = AutoModelForSequenceClassification.from_config(config).to(device)\n",
    "num_epochs = 30\n",
    "total_steps = len(train_dataloader) * num_epochs\n",
    "\n",
    "# Optimizer and learning rate scheduler\n",
    "optimizer = AdamW(model.parameters(), lr=3e-6, weight_decay=0.01)\n",
    "# scheduler = get_linear_schedule_with_warmup(optimizer, num_warmup_steps=total_steps//20, num_training_steps=total_steps)\n",
    "scheduler = None\n",
    "   # Class weights (placeholder example, adjust according to your data)\n",
    "class_weights = torch.tensor([0.4, 0.6]).to(device)\n",
    "# class_weights = None\n",
    "criterion = torch.nn.CrossEntropyLoss(weight=class_weights, reduction='sum')\n",
    "\n",
    "for epoch in tqdm(range(num_epochs)):\n",
    "    # Training\n",
    "    train_one_epoch(model, train_dataloader, 'train',\n",
    "                    optimizer, criterion, epoch,\n",
    "                    scheduler, writer=writer)\n",
    "    for data_loader_name, data_loader in test_dataloaders.items():\n",
    "        train_one_epoch(model, data_loader, data_loader_name,\n",
    "                        optimizer, criterion, epoch, scheduler,\n",
    "                        train=False, writer=writer)\n"
   ]
  },
  {
   "cell_type": "code",
   "execution_count": 33,
   "metadata": {},
   "outputs": [
    {
     "data": {
      "text/plain": [
       "9"
      ]
     },
     "execution_count": 33,
     "metadata": {},
     "output_type": "execute_result"
    }
   ],
   "source": [
    "9"
   ]
  },
  {
   "cell_type": "code",
   "execution_count": null,
   "metadata": {},
   "outputs": [],
   "source": [
    "# training_args = TrainingArguments(\n",
    "#     output_dir=\"/main/whitehead/notebooks/classifier/\",\n",
    "#     learning_rate=2e-5,\n",
    "#     per_device_train_batch_size=256,\n",
    "#     per_device_eval_batch_size=256,\n",
    "#     num_train_epochs=2,\n",
    "#     weight_decay=0.01,\n",
    "#     eval_strategy=\"epoch\",\n",
    "#     save_strategy=\"epoch\",\n",
    "#     load_best_model_at_end=True,\n",
    "#     push_to_hub=False,\n",
    "#     remove_unused_columns=False\n",
    "# )\n",
    "\n",
    "# trainer = Trainer(\n",
    "#     model=model,\n",
    "#     args=training_args,\n",
    "#     train_dataset=CustomDataset(train),\n",
    "#     eval_dataset=CustomDataset(val),\n",
    "#     # processing_class=tokenizer,\n",
    "#     data_collator=collate_classification_train,\n",
    "#     compute_metrics=compute_metrics,\n",
    "# )\n",
    "\n",
    "# trainer.train()"
   ]
  },
  {
   "cell_type": "code",
   "execution_count": null,
   "metadata": {},
   "outputs": [],
   "source": []
  }
 ],
 "metadata": {
  "kernelspec": {
   "display_name": "Python 3 (ipykernel)",
   "language": "python",
   "name": "python3"
  }
 },
 "nbformat": 4,
 "nbformat_minor": 2
}
