{
 "cells": [
  {
   "cell_type": "code",
   "execution_count": 1,
   "metadata": {},
   "outputs": [],
   "source": [
    "import sys\n",
    "\n",
    "sys.path.append('..')\n",
    "\n",
    "import os\n",
    "import pickle\n",
    "import random\n",
    "from copy import deepcopy\n",
    "from functools import partial\n",
    "from itertools import islice\n",
    "from os import environ\n",
    "from pickle import dump\n",
    "from pathlib import Path\n",
    "import matplotlib.pyplot as plt\n",
    "import numpy as np\n",
    "import wandb\n",
    "from iteration_utilities import repeatfunc, unique_everseen\n",
    "from sklearn.model_selection import train_test_split\n",
    "from tokenizer import build_tokenizer\n",
    "from torch.utils.data import DataLoader\n",
    "from tqdm.auto import tqdm\n",
    "from utils import train_collate_fn\n",
    "\n",
    "from freegroup.sampling import CFGNormalClosureSampler, freegroup\n",
    "from freegroup.sampling.helper import get_rng\n",
    "from freegroup.tools import Comm, flatten, normalize, to_string\n",
    "\n",
    "os.environ[\"TOKENIZERS_PARALLELISM\"] = \"false\""
   ]
  },
  {
   "cell_type": "code",
   "execution_count": 2,
   "metadata": {},
   "outputs": [],
   "source": [
    "from freegroup.tools import magnus_is_from_normal_closure\n",
    "from os import listdir"
   ]
  },
  {
   "cell_type": "code",
   "execution_count": null,
   "metadata": {},
   "outputs": [],
   "source": [
    "N_words = 50_000 * 5 #(will reduce to 50_000) #number of words per relation \n",
    "L_RELATION = 100 # max length of generated word\n",
    "number_per_length = N_words // L_RELATION # number of words per length\n",
    "fdim = 3"
   ]
  },
  {
   "cell_type": "code",
   "execution_count": null,
   "metadata": {},
   "outputs": [],
   "source": [
    "samplers_path = Path(f'data/CFG_samplers/meta_model_samplers_L_{L_RELATION}')"
   ]
  },
  {
   "cell_type": "code",
   "execution_count": null,
   "metadata": {},
   "outputs": [],
   "source": [
    "dataset_path = Path(f'data/datasets/L_{L_RELATION}_data')"
   ]
  },
  {
   "cell_type": "code",
   "execution_count": 13,
   "metadata": {},
   "outputs": [],
   "source": [
    "seed = 0\n",
    "rng = get_rng(seed)"
   ]
  },
  {
   "cell_type": "code",
   "execution_count": 14,
   "metadata": {},
   "outputs": [],
   "source": [
    "def sample(sampler, length, n_samples=int(1e3), rng=rng, pbar=None):\n",
    "    \"\"\"\n",
    "    return a list of samples for certain sampler\n",
    "    \"\"\"\n",
    "    def fn():\n",
    "        if pbar is not None:\n",
    "            pbar.update(1)             \n",
    "        try:   \n",
    "            return tuple(map(lambda x: x.item(), sampler(length=length, rng=rng)))\n",
    "        except:\n",
    "            return None\n",
    "    iterator = repeatfunc(fn) \n",
    "    iterator = islice(iterator, n_samples)\n",
    "\n",
    "    return set(filter(lambda x: x is not None, iterator))"
   ]
  },
  {
   "cell_type": "code",
   "execution_count": 15,
   "metadata": {},
   "outputs": [
    {
     "data": {
      "text/plain": [
       "'sampler_008_-3,2_L=100.pkl'"
      ]
     },
     "execution_count": 15,
     "metadata": {},
     "output_type": "execute_result"
    }
   ],
   "source": [
    "sorted(listdir(samplers_path))[0]"
   ]
  },
  {
   "cell_type": "code",
   "execution_count": null,
   "metadata": {},
   "outputs": [
    {
     "data": {
      "application/vnd.jupyter.widget-view+json": {
       "model_id": "72d5329657b34d90ad514e8c31d71fdf",
       "version_major": 2,
       "version_minor": 0
      },
      "text/plain": [
       "  0%|          | 0/26000 [00:00<?, ?it/s]"
      ]
     },
     "metadata": {},
     "output_type": "display_data"
    }
   ],
   "source": [
    "k = 0\n",
    "all_sampled_words = {}\n",
    "with tqdm(total=len(listdir(samplers_path)) * N_words) as pbar: \n",
    "    for path in (sorted(listdir(samplers_path))):\n",
    "        k +=1\n",
    "        if k == 5: break\n",
    "        data = []\n",
    "        relation = path.split('_')[2]\n",
    "        sampler_code = path.split('_')[1]\n",
    "        with open(str(samplers_path / path), 'rb') as f:\n",
    "            sampler = pickle.load(f)\n",
    "        for length in range(L_RELATION + 1):\n",
    "            pbar.set_description(f\"Processing sampler: {relation} with l={length}\")\n",
    "            samples = sample(sampler, length, number_per_length, rng=rng, pbar=pbar)\n",
    "            data.append(samples)\n",
    "        # with open(str(dataset_path / (sampler_code + '_' + relation)), 'wb') as f:\n",
    "        #     pickle.dump(data, f)\n",
    "        all_sampled_words[relation] = data\n",
    "        "
   ]
  },
  {
   "cell_type": "markdown",
   "metadata": {},
   "source": [
    "### generate commutator"
   ]
  },
  {
   "cell_type": "code",
   "execution_count": 77,
   "metadata": {},
   "outputs": [],
   "source": [
    "max_pairs = 4\n",
    "relation_list = list(all_sampled_words.keys())\n",
    "NOT_EMPTY_LENGTHS = {relation: [i for i in range(len(samples)) if samples[i]]\n",
    "                     for relation, samples in all_sampled_words.items()}"
   ]
  },
  {
   "cell_type": "code",
   "execution_count": null,
   "metadata": {},
   "outputs": [],
   "source": [
    "from freegroup.tools import Comm, normalize, flatten"
   ]
  },
  {
   "cell_type": "code",
   "execution_count": null,
   "metadata": {},
   "outputs": [],
   "source": [
    "def choose_random_word_from_rel(rel, n_pairs, words_samples=all_sampled_words):\n",
    "    max_com_length = int(L_RELATION / 4 / n_pairs)\n",
    "    length_list = list(filter(lambda x: x <= max_com_length, NOT_EMPTY_LENGTHS[rel]))\n",
    "    if len(length_list) == 0:\n",
    "        return None, None\n",
    "    # length_list = NOT_EMPTY_LENGTHS[rel]\n",
    "    length = random.choice(length_list)\n",
    "    word = list(random.choice(list(words_samples[rel][length])))\n",
    "    return word, length"
   ]
  },
  {
   "cell_type": "code",
   "execution_count": 141,
   "metadata": {},
   "outputs": [],
   "source": [
    "n_com_words = N_words * len(relation_list)"
   ]
  },
  {
   "cell_type": "code",
   "execution_count": 144,
   "metadata": {},
   "outputs": [
    {
     "data": {
      "application/vnd.jupyter.widget-view+json": {
       "model_id": "7c9dfc6690b94e24bd6d819c5275ce9d",
       "version_major": 2,
       "version_minor": 0
      },
      "text/plain": [
       "  0%|          | 0/2000 [00:00<?, ?it/s]"
      ]
     },
     "metadata": {},
     "output_type": "display_data"
    }
   ],
   "source": [
    "comm_data = {}\n",
    "for _ in tqdm(range(n_com_words)):\n",
    "    n_pairs = np.random.randint(1, max_pairs+1)\n",
    "    rel1 = random.choice(relation_list)\n",
    "    rel2 = random.choice(list(set(relation_list).difference({rel1})))\n",
    "    n_pairs_real = 0\n",
    "    words = []\n",
    "    debug_info = []\n",
    "    general_length = 0\n",
    "    for _ in range(n_pairs):\n",
    "        word1, length1 = choose_random_word_from_rel(rel1, n_pairs)\n",
    "        word2, length2 = choose_random_word_from_rel(rel2, n_pairs)\n",
    "        if word1 is None or word2 is None:\n",
    "            continue\n",
    "\n",
    "        words += flatten(Comm([word1, word2]))\n",
    "        debug_info.append((word1, word2, length1, length2))\n",
    "        general_length += (length1 + length2) * 2\n",
    "        n_pairs_real += 1\n",
    "    words = tuple(normalize(words))\n",
    "    final_length = len(words)\n",
    "    comm_data.setdefault(final_length, set())\n",
    "    comm_data[final_length].add(words)\n"
   ]
  },
  {
   "cell_type": "code",
   "execution_count": 94,
   "metadata": {},
   "outputs": [
    {
     "ename": "TypeError",
     "evalue": "unsupported operand type(s) for +: 'NoneType' and 'NoneType'",
     "output_type": "error",
     "traceback": [
      "\u001b[0;31m---------------------------------------------------------------------------\u001b[0m",
      "\u001b[0;31mTypeError\u001b[0m                                 Traceback (most recent call last)",
      "Cell \u001b[0;32mIn[94], line 1\u001b[0m\n\u001b[0;32m----> 1\u001b[0m \u001b[38;5;28mlen\u001b[39m(normalize(\u001b[43mflatten\u001b[49m\u001b[43m(\u001b[49m\u001b[43mComm\u001b[49m\u001b[43m(\u001b[49m\u001b[43m[\u001b[49m\u001b[43m(\u001b[49m\u001b[43mword1\u001b[49m\u001b[43m)\u001b[49m\u001b[43m,\u001b[49m\u001b[43m \u001b[49m\u001b[43m(\u001b[49m\u001b[43mword2\u001b[49m\u001b[43m)\u001b[49m\u001b[43m]\u001b[49m\u001b[43m)\u001b[49m\u001b[43m)\u001b[49m))\n",
      "File \u001b[0;32m/usr/local/lib/python3.10/site-packages/freegroup-0.0.1-py3.10-linux-x86_64.egg/freegroup/tools/tools.py:19\u001b[0m, in \u001b[0;36mVisitor.__call__\u001b[0;34m(self, word)\u001b[0m\n\u001b[1;32m     17\u001b[0m \u001b[38;5;28;01mdef\u001b[39;00m \u001b[38;5;21m__call__\u001b[39m(\u001b[38;5;28mself\u001b[39m, word):\n\u001b[1;32m     18\u001b[0m     \u001b[38;5;28;01mif\u001b[39;00m \u001b[38;5;28misinstance\u001b[39m(word, \u001b[38;5;28mlist\u001b[39m): \u001b[38;5;28;01mreturn\u001b[39;00m \u001b[38;5;28mself\u001b[39m\u001b[38;5;241m.\u001b[39mvisit_word(word)\n\u001b[0;32m---> 19\u001b[0m     \u001b[38;5;28;01mif\u001b[39;00m \u001b[38;5;28misinstance\u001b[39m(word, Comm): \u001b[38;5;28;01mreturn\u001b[39;00m \u001b[38;5;28;43mself\u001b[39;49m\u001b[38;5;241;43m.\u001b[39;49m\u001b[43mvisit_comm\u001b[49m\u001b[43m(\u001b[49m\u001b[43mword\u001b[49m\u001b[38;5;241;43m.\u001b[39;49m\u001b[43mchildren\u001b[49m\u001b[43m)\u001b[49m\n\u001b[1;32m     20\u001b[0m     \u001b[38;5;28;01mif\u001b[39;00m \u001b[38;5;28misinstance\u001b[39m(word, Mult): \u001b[38;5;28;01mreturn\u001b[39;00m \u001b[38;5;28mself\u001b[39m\u001b[38;5;241m.\u001b[39mvisit_mult(word\u001b[38;5;241m.\u001b[39mchildren)\n",
      "File \u001b[0;32m/usr/local/lib/python3.10/site-packages/freegroup-0.0.1-py3.10-linux-x86_64.egg/freegroup/tools/tools.py:50\u001b[0m, in \u001b[0;36mFlatten.visit_comm\u001b[0;34m(self, children)\u001b[0m\n\u001b[1;32m     49\u001b[0m \u001b[38;5;28;01mdef\u001b[39;00m \u001b[38;5;21mvisit_comm\u001b[39m(\u001b[38;5;28mself\u001b[39m, children):\n\u001b[0;32m---> 50\u001b[0m     \u001b[38;5;28;01mreturn\u001b[39;00m \u001b[43mreduce\u001b[49m\u001b[43m(\u001b[49m\u001b[38;5;28;43;01mlambda\u001b[39;49;00m\u001b[43m \u001b[49m\u001b[43mx\u001b[49m\u001b[43m,\u001b[49m\u001b[43m \u001b[49m\u001b[43my\u001b[49m\u001b[43m:\u001b[49m\u001b[43m \u001b[49m\u001b[43mreciprocal\u001b[49m\u001b[43m(\u001b[49m\u001b[43mx\u001b[49m\u001b[43m)\u001b[49m\u001b[43m \u001b[49m\u001b[38;5;241;43m+\u001b[39;49m\u001b[43m \u001b[49m\u001b[43mreciprocal\u001b[49m\u001b[43m(\u001b[49m\u001b[43my\u001b[49m\u001b[43m)\u001b[49m\u001b[43m \u001b[49m\u001b[38;5;241;43m+\u001b[39;49m\u001b[43m \u001b[49m\u001b[43mx\u001b[49m\u001b[43m \u001b[49m\u001b[38;5;241;43m+\u001b[39;49m\u001b[43m \u001b[49m\u001b[43my\u001b[49m\u001b[43m,\u001b[49m\u001b[43m \u001b[49m\u001b[38;5;28;43mmap\u001b[39;49m\u001b[43m(\u001b[49m\u001b[38;5;28;43mself\u001b[39;49m\u001b[43m,\u001b[49m\u001b[43m \u001b[49m\u001b[43mchildren\u001b[49m\u001b[43m)\u001b[49m\u001b[43m)\u001b[49m\n",
      "File \u001b[0;32m/usr/local/lib/python3.10/site-packages/freegroup-0.0.1-py3.10-linux-x86_64.egg/freegroup/tools/tools.py:50\u001b[0m, in \u001b[0;36mFlatten.visit_comm.<locals>.<lambda>\u001b[0;34m(x, y)\u001b[0m\n\u001b[1;32m     49\u001b[0m \u001b[38;5;28;01mdef\u001b[39;00m \u001b[38;5;21mvisit_comm\u001b[39m(\u001b[38;5;28mself\u001b[39m, children):\n\u001b[0;32m---> 50\u001b[0m     \u001b[38;5;28;01mreturn\u001b[39;00m reduce(\u001b[38;5;28;01mlambda\u001b[39;00m x, y: \u001b[43mreciprocal\u001b[49m\u001b[43m(\u001b[49m\u001b[43mx\u001b[49m\u001b[43m)\u001b[49m\u001b[43m \u001b[49m\u001b[38;5;241;43m+\u001b[39;49m\u001b[43m \u001b[49m\u001b[43mreciprocal\u001b[49m\u001b[43m(\u001b[49m\u001b[43my\u001b[49m\u001b[43m)\u001b[49m \u001b[38;5;241m+\u001b[39m x \u001b[38;5;241m+\u001b[39m y, \u001b[38;5;28mmap\u001b[39m(\u001b[38;5;28mself\u001b[39m, children))\n",
      "\u001b[0;31mTypeError\u001b[0m: unsupported operand type(s) for +: 'NoneType' and 'NoneType'"
     ]
    }
   ],
   "source": [
    "len(normalize(flatten(Comm([(word1), (word2)]))))"
   ]
  },
  {
   "cell_type": "code",
   "execution_count": 41,
   "metadata": {},
   "outputs": [
    {
     "data": {
      "text/plain": [
       "(1, -2)"
      ]
     },
     "execution_count": 41,
     "metadata": {},
     "output_type": "execute_result"
    }
   ],
   "source": [
    "word2"
   ]
  },
  {
   "cell_type": "code",
   "execution_count": 39,
   "metadata": {},
   "outputs": [
    {
     "data": {
      "text/plain": [
       "Comm(children=[(-1, -1, -1, -1, -1, 2, -1, 3, -1, -3, -3, 1, 3, 1, -3, 1, 3, -1, -2, -3, -3, -3, -1, 3, 3, 3, 1, 3, 2, -3, 1, -2, -1, 3, 1, -3, 1, -3, -2, -3, -1, 3, 3, -2, -1, 3, 2, 3, 1, -3, -1, -1, 3, 2, 3, 2, -1, 3, -2, -1, -3, 1, -2, -3, -3, 1, 1, 2, 3, 1, 1, 1, 1, -3, 1, 3, 2, -3, 1, -2, -3, 1, -3, -1, -3, 1), (1, -2)])"
      ]
     },
     "execution_count": 39,
     "metadata": {},
     "output_type": "execute_result"
    }
   ],
   "source": [
    "Comm([word1, word2])"
   ]
  },
  {
   "cell_type": "code",
   "execution_count": 34,
   "metadata": {},
   "outputs": [],
   "source": [
    "def sample_freegroup(fdim=2, n_samples=int(1e3), rng=rng, length=5, tqdm_on=False):\n",
    "    if length <= 1:\n",
    "        return set()\n",
    "    def fn():\n",
    "        return tuple(freegroup(fdim, length, rng=rng))\n",
    "    iterator = repeatfunc(fn)\n",
    "    # iterator = unique_everseen(iterator)\n",
    "    iterator = islice(iterator, n_samples)\n",
    "    result = set(list(tqdm(iterator, total=int(n_samples), disable=not tqdm_on)))\n",
    "    # set(filter(lambda x: x is not None, iterator))\n",
    "    return result"
   ]
  },
  {
   "cell_type": "code",
   "execution_count": null,
   "metadata": {},
   "outputs": [
    {
     "data": {
      "application/vnd.jupyter.widget-view+json": {
       "model_id": "ff64489bf0864399bfcab04d02a72022",
       "version_major": 2,
       "version_minor": 0
      },
      "text/plain": [
       "  0%|          | 0/101 [00:00<?, ?it/s]"
      ]
     },
     "metadata": {},
     "output_type": "display_data"
    }
   ],
   "source": [
    "data = []\n",
    "for length in tqdm(range(L_RELATION + 1)):\n",
    "    data.append(sample_freegroup(3, number_per_length, rng=rng, length=length))\n",
    "with open(str(dataset_path / (sampler_code + '_' + '0')), 'wb') as f:\n",
    "    pickle.dump(data, f)"
   ]
  }
 ],
 "metadata": {
  "kernelspec": {
   "display_name": "Python 3 (ipykernel)",
   "language": "python",
   "name": "python3"
  },
  "language_info": {
   "codemirror_mode": {
    "name": "ipython",
    "version": 3
   },
   "file_extension": ".py",
   "mimetype": "text/x-python",
   "name": "python",
   "nbconvert_exporter": "python",
   "pygments_lexer": "ipython3",
   "version": "3.10.14"
  }
 },
 "nbformat": 4,
 "nbformat_minor": 2
}
