{
 "cells": [
  {
   "cell_type": "code",
   "execution_count": 3,
   "metadata": {},
   "outputs": [
    {
     "name": "stdout",
     "output_type": "stream",
     "text": [
      "Set GPU 0 with 20GB available memory as device.\n"
     ]
    }
   ],
   "source": [
    "import torch\n",
    "import subprocess\n",
    "\n",
    "def get_available_gpus(min_vram_gb=20):\n",
    "    # Execute the nvidia-smi command to get GPU memory usage\n",
    "    result = subprocess.check_output(['nvidia-smi', '--query-gpu=memory.free', '--format=csv,nounits,noheader'])\n",
    "    free_memory = [int(x) for x in result.decode('utf-8').strip().split('\\n')]\n",
    "    \n",
    "    # Check for GPUs with enough free memory\n",
    "    available_gpus = [i for i, mem in enumerate(free_memory) if mem >= min_vram_gb * 1024]  # convert GB to MB\n",
    "    return available_gpus\n",
    "\n",
    "def set_device_with_sufficient_memory(min_vram_gb=20):\n",
    "    available_gpus = get_available_gpus(min_vram_gb)\n",
    "    \n",
    "    if len(available_gpus) > 0:\n",
    "        # Set the first available GPU with enough memory\n",
    "        device = torch.device(f'cuda:{available_gpus[0]}')\n",
    "        torch.cuda.set_device(device)\n",
    "        print(f'Set GPU {available_gpus[0]} with {min_vram_gb}GB available memory as device.')\n",
    "    else:\n",
    "        # Fall back to CPU if no GPU is available\n",
    "        device = torch.device('cpu')\n",
    "        print(f'No GPUs with at least {min_vram_gb}GB available memory. Falling back to CPU.')\n",
    "    \n",
    "    return device\n",
    "\n",
    "# Set the device and make it available globally\n",
    "device = set_device_with_sufficient_memory()"
   ]
  },
  {
   "cell_type": "code",
   "execution_count": 4,
   "metadata": {},
   "outputs": [
    {
     "data": {
      "text/plain": [
       "device(type='cuda', index=0)"
      ]
     },
     "execution_count": 4,
     "metadata": {},
     "output_type": "execute_result"
    }
   ],
   "source": [
    "device"
   ]
  },
  {
   "cell_type": "code",
   "execution_count": 5,
   "metadata": {},
   "outputs": [
    {
     "name": "stdout",
     "output_type": "stream",
     "text": [
      "Mon Oct 21 15:37:23 2024       \n",
      "+-----------------------------------------------------------------------------------------+\n",
      "| NVIDIA-SMI 560.35.03              Driver Version: 560.35.03      CUDA Version: 12.6     |\n",
      "|-----------------------------------------+------------------------+----------------------+\n",
      "| GPU  Name                 Persistence-M | Bus-Id          Disp.A | Volatile Uncorr. ECC |\n",
      "| Fan  Temp   Perf          Pwr:Usage/Cap |           Memory-Usage | GPU-Util  Compute M. |\n",
      "|                                         |                        |               MIG M. |\n",
      "|=========================================+========================+======================|\n",
      "|   0  NVIDIA H100 NVL                On  |   00000000:17:00.0 Off |                    0 |\n",
      "| N/A   61C    P0            302W /  400W |   31665MiB /  95830MiB |    100%      Default |\n",
      "|                                         |                        |             Disabled |\n",
      "+-----------------------------------------+------------------------+----------------------+\n",
      "|   1  NVIDIA H100 NVL                On  |   00000000:2A:00.0 Off |                    0 |\n",
      "| N/A   62C    P0            312W /  400W |   92823MiB /  95830MiB |    100%      Default |\n",
      "|                                         |                        |             Disabled |\n",
      "+-----------------------------------------+------------------------+----------------------+\n",
      "|   2  NVIDIA H100 NVL                On  |   00000000:99:00.0 Off |                    0 |\n",
      "| N/A   53C    P0            331W /  400W |   23221MiB /  95830MiB |     99%      Default |\n",
      "|                                         |                        |             Disabled |\n",
      "+-----------------------------------------+------------------------+----------------------+\n",
      "|   3  NVIDIA H100 NVL                On  |   00000000:AB:00.0 Off |                    0 |\n",
      "| N/A   54C    P0            330W /  400W |   24179MiB /  95830MiB |    100%      Default |\n",
      "|                                         |                        |             Disabled |\n",
      "+-----------------------------------------+------------------------+----------------------+\n",
      "                                                                                         \n",
      "+-----------------------------------------------------------------------------------------+\n",
      "| Processes:                                                                              |\n",
      "|  GPU   GI   CI        PID   Type   Process name                              GPU Memory |\n",
      "|        ID   ID                                                               Usage      |\n",
      "|=========================================================================================|\n",
      "|    0   N/A  N/A      4478      G   /usr/lib/xorg/Xorg                              4MiB |\n",
      "|    0   N/A  N/A   2764828      C   python                                      14234MiB |\n",
      "|    0   N/A  N/A   2792617      C   python                                      17402MiB |\n",
      "|    1   N/A  N/A      4478      G   /usr/lib/xorg/Xorg                              4MiB |\n",
      "|    1   N/A  N/A   2441902      C   python                                      92800MiB |\n",
      "|    2   N/A  N/A      4478      G   /usr/lib/xorg/Xorg                              4MiB |\n",
      "|    2   N/A  N/A    302750      C   python                                      23198MiB |\n",
      "|    3   N/A  N/A      4478      G   /usr/lib/xorg/Xorg                              4MiB |\n",
      "|    3   N/A  N/A    302354      C   python                                      24156MiB |\n",
      "+-----------------------------------------------------------------------------------------+\n"
     ]
    }
   ],
   "source": [
    "!nvidia-smi"
   ]
  }
 ],
 "metadata": {
  "kernelspec": {
   "display_name": "myenv",
   "language": "python",
   "name": "python3"
  },
  "language_info": {
   "codemirror_mode": {
    "name": "ipython",
    "version": 3
   },
   "file_extension": ".py",
   "mimetype": "text/x-python",
   "name": "python",
   "nbconvert_exporter": "python",
   "pygments_lexer": "ipython3",
   "version": "3.10.15"
  }
 },
 "nbformat": 4,
 "nbformat_minor": 2
}
